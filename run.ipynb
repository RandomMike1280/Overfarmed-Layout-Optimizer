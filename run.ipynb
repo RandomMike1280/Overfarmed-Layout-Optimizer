{
 "cells": [
  {
   "cell_type": "code",
   "execution_count": null,
   "id": "0018cb6a",
   "metadata": {},
   "outputs": [],
   "source": [
    "import torch\n",
    "from train import ReplayBuffer, SelfPlay\n",
    "from MCTS import MCTS\n",
    "from AlphaFarmer import AlphaFarmer\n",
    "from farming import FarmGame"
   ]
  },
  {
   "cell_type": "code",
   "execution_count": null,
   "id": "89c99a32",
   "metadata": {},
   "outputs": [],
   "source": [
    "grid_size = 43\n",
    "num_selfplay_games = 100\n",
    "num_episodes = 20"
   ]
  },
  {
   "cell_type": "code",
   "execution_count": null,
   "id": "50cefe96",
   "metadata": {},
   "outputs": [],
   "source": [
    "game = FarmGame(grid_size)\n",
    "model = AlphaFarmer(6, (grid_size, grid_size), 5)\n",
    "mcts = MCTS(game, model, device='cpu', cpuct=1.0)\n",
    "\n",
    "sp = SelfPlay(num_selfplay_games, model=model, MCTS=mcts, game=game)"
   ]
  },
  {
   "cell_type": "code",
   "execution_count": null,
   "id": "948072a5",
   "metadata": {},
   "outputs": [],
   "source": [
    "for episode in range(num_episodes):\n",
    "    sp.start_selfplay()\n",
    "    model, optimizer = sp.optimize()\n",
    "    if episode % 5 == 0:\n",
    "        torch.save(model, \"models/model-latest.pth\")\n",
    "        torch.save(optimizer, \"models/optimizer-latest.pth\")\n",
    "\n",
    "torch.save(model, \"optimizers/model-final.pth\")\n",
    "torch.save(optimizer, \"optimizers/optimizer-final.pth\")"
   ]
  }
 ],
 "metadata": {
  "kernelspec": {
   "display_name": "Python 3",
   "language": "python",
   "name": "python3"
  },
  "language_info": {
   "name": "python",
   "version": "3.10.10"
  }
 },
 "nbformat": 4,
 "nbformat_minor": 5
}
